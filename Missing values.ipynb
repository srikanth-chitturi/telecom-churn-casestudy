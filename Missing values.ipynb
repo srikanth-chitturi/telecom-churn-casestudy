{
 "cells": [
  {
   "cell_type": "code",
   "execution_count": 11,
   "id": "782068dd",
   "metadata": {},
   "outputs": [
    {
     "name": "stdout",
     "output_type": "stream",
     "text": [
      "     Name   Age Gender\n",
      "0    John  28.0   Male\n",
      "1   Emily   NaN   None\n",
      "2   Harry   NaN   None\n",
      "3  Sophia   NaN   None\n",
      "4   David   NaN   Male\n",
      "1.5\n",
      "     Name  Age Gender\n",
      "1   Emily  NaN   None\n",
      "2   Harry  NaN   None\n",
      "3  Sophia  NaN   None\n"
     ]
    }
   ],
   "source": [
    "import pandas as pd\n",
    "\n",
    "# create a sample dataframe\n",
    "data = {'Name': ['John', 'Emily', 'Harry', 'Sophia', 'David'],\n",
    "        'Age': [28, None, None, None, None],\n",
    "        'Gender': [\"Male\", None, None, None, 'Male']}\n",
    "df = pd.DataFrame(data)\n",
    "\n",
    "print(df)\n",
    "\n",
    "# set threshold for missing values\n",
    "threshold = len(df.columns) / 2  # 50% of columns\n",
    "\n",
    "print(threshold)\n",
    "\n",
    "# check for rows with more than 50% missing values\n",
    "missing_rows = df[df.isna().sum(axis=1) >= threshold]\n",
    "\n",
    "print(missing_rows)\n",
    "\n"
   ]
  },
  {
   "cell_type": "code",
   "execution_count": 14,
   "id": "3c708cc3",
   "metadata": {},
   "outputs": [
    {
     "name": "stdout",
     "output_type": "stream",
     "text": [
      "     Name   Age Gender\n",
      "0    John  28.0   Male\n",
      "1   Emily   NaN   None\n",
      "2   Harry   NaN   None\n",
      "3  Sophia   NaN   None\n",
      "4   David   NaN   Male\n",
      "     Name  Age Gender\n",
      "1   Emily  NaN   None\n",
      "2   Harry  NaN   None\n",
      "3  Sophia  NaN   None\n"
     ]
    }
   ],
   "source": [
    "print(df)\n",
    "print(missing_rows)"
   ]
  },
  {
   "cell_type": "code",
   "execution_count": 19,
   "id": "3fd70885",
   "metadata": {},
   "outputs": [],
   "source": [
    "df_deleted_missing = df.drop(missing_rows.index)"
   ]
  },
  {
   "cell_type": "code",
   "execution_count": 21,
   "id": "8e87f8e3",
   "metadata": {},
   "outputs": [
    {
     "data": {
      "text/html": [
       "<div>\n",
       "<style scoped>\n",
       "    .dataframe tbody tr th:only-of-type {\n",
       "        vertical-align: middle;\n",
       "    }\n",
       "\n",
       "    .dataframe tbody tr th {\n",
       "        vertical-align: top;\n",
       "    }\n",
       "\n",
       "    .dataframe thead th {\n",
       "        text-align: right;\n",
       "    }\n",
       "</style>\n",
       "<table border=\"1\" class=\"dataframe\">\n",
       "  <thead>\n",
       "    <tr style=\"text-align: right;\">\n",
       "      <th></th>\n",
       "      <th>Name</th>\n",
       "      <th>Age</th>\n",
       "      <th>Gender</th>\n",
       "    </tr>\n",
       "  </thead>\n",
       "  <tbody>\n",
       "    <tr>\n",
       "      <th>0</th>\n",
       "      <td>John</td>\n",
       "      <td>28.0</td>\n",
       "      <td>Male</td>\n",
       "    </tr>\n",
       "    <tr>\n",
       "      <th>4</th>\n",
       "      <td>David</td>\n",
       "      <td>NaN</td>\n",
       "      <td>Male</td>\n",
       "    </tr>\n",
       "  </tbody>\n",
       "</table>\n",
       "</div>"
      ],
      "text/plain": [
       "    Name   Age Gender\n",
       "0   John  28.0   Male\n",
       "4  David   NaN   Male"
      ]
     },
     "execution_count": 21,
     "metadata": {},
     "output_type": "execute_result"
    }
   ],
   "source": [
    "df_deleted_missing"
   ]
  },
  {
   "cell_type": "code",
   "execution_count": 22,
   "id": "f19f6b85",
   "metadata": {},
   "outputs": [
    {
     "data": {
      "text/plain": [
       "Int64Index([1, 2, 3], dtype='int64')"
      ]
     },
     "execution_count": 22,
     "metadata": {},
     "output_type": "execute_result"
    }
   ],
   "source": [
    "missing_rows.index"
   ]
  },
  {
   "cell_type": "code",
   "execution_count": 30,
   "id": "966d835e",
   "metadata": {},
   "outputs": [
    {
     "name": "stdout",
     "output_type": "stream",
     "text": [
      "Name      0\n",
      "Age       2\n",
      "Gender    2\n",
      "dtype: int64\n"
     ]
    }
   ],
   "source": [
    "import pandas as pd\n",
    "\n",
    "# create a sample dataframe\n",
    "data = {'Name': ['John', 'Emily', 'Harry', 'Sophia', 'David'],\n",
    "        'Age': [28, None, 21, None, 42],\n",
    "        'Gender': [None, 'Female', None, 'Female', 'Male']}\n",
    "df = pd.DataFrame(data)\n",
    "\n",
    "# check for missing values in each column\n",
    "missing_values = df.isnull().sum()\n",
    "\n",
    "print(missing_values)"
   ]
  },
  {
   "cell_type": "code",
   "execution_count": 28,
   "id": "9f0e0418",
   "metadata": {},
   "outputs": [],
   "source": [
    "df = df.drop(missing_values)"
   ]
  },
  {
   "cell_type": "code",
   "execution_count": 26,
   "id": "cd1bbad3",
   "metadata": {},
   "outputs": [
    {
     "data": {
      "text/html": [
       "<div>\n",
       "<style scoped>\n",
       "    .dataframe tbody tr th:only-of-type {\n",
       "        vertical-align: middle;\n",
       "    }\n",
       "\n",
       "    .dataframe tbody tr th {\n",
       "        vertical-align: top;\n",
       "    }\n",
       "\n",
       "    .dataframe thead th {\n",
       "        text-align: right;\n",
       "    }\n",
       "</style>\n",
       "<table border=\"1\" class=\"dataframe\">\n",
       "  <thead>\n",
       "    <tr style=\"text-align: right;\">\n",
       "      <th></th>\n",
       "      <th>Name</th>\n",
       "      <th>Age</th>\n",
       "      <th>Gender</th>\n",
       "    </tr>\n",
       "  </thead>\n",
       "  <tbody>\n",
       "    <tr>\n",
       "      <th>1</th>\n",
       "      <td>Emily</td>\n",
       "      <td>NaN</td>\n",
       "      <td>Female</td>\n",
       "    </tr>\n",
       "    <tr>\n",
       "      <th>3</th>\n",
       "      <td>Sophia</td>\n",
       "      <td>NaN</td>\n",
       "      <td>Female</td>\n",
       "    </tr>\n",
       "    <tr>\n",
       "      <th>4</th>\n",
       "      <td>David</td>\n",
       "      <td>42.0</td>\n",
       "      <td>Male</td>\n",
       "    </tr>\n",
       "  </tbody>\n",
       "</table>\n",
       "</div>"
      ],
      "text/plain": [
       "     Name   Age  Gender\n",
       "1   Emily   NaN  Female\n",
       "3  Sophia   NaN  Female\n",
       "4   David  42.0    Male"
      ]
     },
     "execution_count": 26,
     "metadata": {},
     "output_type": "execute_result"
    }
   ],
   "source": [
    "df"
   ]
  },
  {
   "cell_type": "code",
   "execution_count": null,
   "id": "05ec4b6a",
   "metadata": {},
   "outputs": [],
   "source": []
  }
 ],
 "metadata": {
  "kernelspec": {
   "display_name": "Python 3 (ipykernel)",
   "language": "python",
   "name": "python3"
  },
  "language_info": {
   "codemirror_mode": {
    "name": "ipython",
    "version": 3
   },
   "file_extension": ".py",
   "mimetype": "text/x-python",
   "name": "python",
   "nbconvert_exporter": "python",
   "pygments_lexer": "ipython3",
   "version": "3.9.12"
  }
 },
 "nbformat": 4,
 "nbformat_minor": 5
}
