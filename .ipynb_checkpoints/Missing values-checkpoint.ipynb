{
 "cells": [
  {
   "cell_type": "code",
   "execution_count": null,
   "id": "3b677a18",
   "metadata": {},
   "outputs": [],
   "source": [
    "import pandas as pd\n",
    "\n",
    "# create a sample dataframe\n",
    "data = {'Name': ['John', 'Emily', 'Harry', 'Sophia', 'David'],\n",
    "        'Age': [28, None, None, None, None],\n",
    "        'Gender': [None, None, None, None, 'Male']}\n",
    "df = pd.DataFrame(data)\n",
    "\n",
    "# set threshold for missing values\n",
    "threshold = len(df.columns) / 2  # 50% of columns\n",
    "\n",
    "# check for rows with more than 50% missing values\n",
    "missing_rows = df[df.isna().sum(axis=1) >= threshold]\n",
    "\n",
    "print(missing_rows)\n",
    "\n",
    "In this example, the isna() method returns a boolean DataFrame with True where the values are missing and False where they are not. The sum() method is then used to count the number of missing values in each row (axis=1 specifies that we want to sum along the rows). Finally, we select the rows where the count of missing values is greater than or equal to 50% of the total number of columns in the DataFrame.\n",
    "\n",
    "The output will be:\n",
    "\n",
    "r\n",
    "\n",
    "     Name  Age Gender\n",
    "1   Emily  NaN   None\n",
    "2   Harry  NaN   None\n",
    "3  Sophia  NaN   None\n",
    "4   David  NaN   Male\n",
    "\n",
    "This shows the rows where more than 50% of the values are missing. In this case, all columns except for the Name column have missing values in these rows.\n"
   ]
  }
 ],
 "metadata": {
  "kernelspec": {
   "display_name": "Python 3 (ipykernel)",
   "language": "python",
   "name": "python3"
  },
  "language_info": {
   "codemirror_mode": {
    "name": "ipython",
    "version": 3
   },
   "file_extension": ".py",
   "mimetype": "text/x-python",
   "name": "python",
   "nbconvert_exporter": "python",
   "pygments_lexer": "ipython3",
   "version": "3.9.12"
  }
 },
 "nbformat": 4,
 "nbformat_minor": 5
}
